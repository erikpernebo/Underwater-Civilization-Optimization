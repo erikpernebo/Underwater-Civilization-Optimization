{
 "cells": [
  {
   "cell_type": "code",
   "execution_count": 2,
   "metadata": {},
   "outputs": [],
   "source": [
    "import numpy as np\n",
    "\n",
    "# Seed for reproducibility\n",
    "np.random.seed(42)\n",
    "\n",
    "n = 100  # Number of sample civilizations\n",
    "O = np.random.rand(n)  # Distance from oil on land\n",
    "F = np.random.rand(n)  # Food availability\n",
    "E = np.random.rand(n)  # Elevation underwater\n",
    "D = np.random.rand(n)  # Distance from land\n",
    "\n",
    "# Generate synthetic survival outcomes (normalizing to [0, 1])\n",
    "true_weights = np.array([0.2, 0.4, 0.3, 0.1])  # Assumed true weights for O, F, E, D\n",
    "features = np.array([O, F, E, D]).T  # Transpose to get a (n x 4) matrix\n",
    "Y = np.dot(features, true_weights) + np.random.rand(n) * 0.1  # Adding some noise\n",
    "Y = (Y - Y.min()) / (Y.max() - Y.min())  # Normalize Y\n"
   ]
  },
  {
   "cell_type": "code",
   "execution_count": 3,
   "metadata": {},
   "outputs": [],
   "source": []
  }
 ],
 "metadata": {
  "kernelspec": {
   "display_name": "Python 3",
   "language": "python",
   "name": "python3"
  },
  "language_info": {
   "codemirror_mode": {
    "name": "ipython",
    "version": 3
   },
   "file_extension": ".py",
   "mimetype": "text/x-python",
   "name": "python",
   "nbconvert_exporter": "python",
   "pygments_lexer": "ipython3",
   "version": "3.12.2"
  }
 },
 "nbformat": 4,
 "nbformat_minor": 2
}
