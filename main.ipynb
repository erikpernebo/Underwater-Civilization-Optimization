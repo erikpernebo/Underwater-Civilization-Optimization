{
 "cells": [
  {
   "cell_type": "code",
   "execution_count": 5,
   "metadata": {},
   "outputs": [],
   "source": [
    "\n"
   ]
  },
  {
   "cell_type": "code",
   "execution_count": 35,
   "metadata": {},
   "outputs": [
    {
     "data": {
      "text/plain": [
       "'Closest Oil well is located at latitude: 41.37527 longitude: -74.707578 and the distance is 0.13 meters'"
      ]
     },
     "execution_count": 35,
     "metadata": {},
     "output_type": "execute_result"
    }
   ],
   "source": [
    "import csv\n",
    "import math\n",
    "with open(r'C:\\Users\\never\\Documents\\GitHub\\underwater\\Underwater-Civilization-Optimization\\datasets\\US_orphaned_wells.csv', mode='r', encoding='utf-8') as file:\n",
    "    csvreader = csv.reader(file)\n",
    "    next(csvreader)  # Skip the header row\n",
    "\n",
    "    longitudevalues = []\n",
    "    latitudevalues = []\n",
    "    for row in csvreader:\n",
    "        try:\n",
    "            longitude = float(row[8])\n",
    "            latitude = float(row[7])\n",
    "            longitudevalues.append(longitude)\n",
    "            latitudevalues.append(latitude)\n",
    "        except ValueError:\n",
    "            continue\n",
    "\n",
    "def haversine(lat1, lon1, lat2, lon2):\n",
    "    # convert decimal degrees to radians \n",
    "    lat1, lon1, lat2, lon2 = map(math.radians, [lat1, lon1, lat2, lon2])\n",
    "\n",
    "    # Haversine formula \n",
    "    dlat = lat2 - lat1 \n",
    "    dlon = lon2 - lon1 \n",
    "    a = math.sin(dlat/2)**2 + math.cos(lat1) * math.cos(lat2) * math.sin(dlon/2)**2\n",
    "    c = 2 * math.asin(math.sqrt(a)) \n",
    "    r = 6371 # Radius of Earth in kilometers\n",
    "    return c * r\n",
    "def nearestwellsite(lat,lon):\n",
    "    distance = haversine(latitudevalues[0],longitudevalues[0],lat,lon)\n",
    "    index = 0\n",
    "    for i in range(len(longitudevalues)):\n",
    "        current_distance = haversine(latitudevalues[i], longitudevalues[i], lat, lon)\n",
    "        if current_distance < distance:\n",
    "            distance = haversine(latitudevalues[i],longitudevalues[i],lat,lon)\n",
    "            index = i\n",
    "    distance = distance / 1609.34\n",
    "    return f\"Closest Oil well is located at latitude: {latitudevalues[index]} longitude: {longitudevalues[index]} and the distance is {distance:.2f} meters\"\n",
    "nearestwellsite(40,-73)\n",
    "    \n",
    "        "
   ]
  }
 ],
 "metadata": {
  "kernelspec": {
   "display_name": "Python 3",
   "language": "python",
   "name": "python3"
  },
  "language_info": {
   "codemirror_mode": {
    "name": "ipython",
    "version": 3
   },
   "file_extension": ".py",
   "mimetype": "text/x-python",
   "name": "python",
   "nbconvert_exporter": "python",
   "pygments_lexer": "ipython3",
   "version": "3.12.2"
  }
 },
 "nbformat": 4,
 "nbformat_minor": 2
}
